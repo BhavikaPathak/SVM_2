{
 "cells": [
  {
   "cell_type": "markdown",
   "id": "ac318723-ed6b-4fb4-9b48-344b66b0d1df",
   "metadata": {},
   "source": [
    "# ANSWER 1\n",
    "In machine learning, kernel functions play a significant role in transforming data into a higher-dimensional space. A polynomial function can be seen as a specific type of kernel function. Kernel functions allow Support Vector Machines (SVM) and other algorithms to handle non-linearly separable data by implicitly mapping it to a higher-dimensional feature space, where it might become linearly separable.\n",
    "\n",
    "The polynomial kernel function, for example, takes the form:\n",
    "\n",
    "K(xᵢ, xⱼ) = (γxᵢ·xⱼ + r)ᵈ\n",
    "\n",
    "where γ, r, and d are kernel parameters. When d is set to a positive integer value, the polynomial kernel calculates the dot product of the transformed feature vectors in the higher-dimensional space without explicitly computing the transformation.\n",
    "\n",
    "So, in summary, polynomial functions are a subset of kernel functions used for SVM and other machine learning algorithms to handle non-linear data by implicitly projecting it into a higher-dimensional space."
   ]
  },
  {
   "cell_type": "markdown",
   "id": "2de7ea56-1e9b-403e-8b3e-96b34d40d3a4",
   "metadata": {},
   "source": [
    "# ANSWER 2"
   ]
  },
  {
   "cell_type": "code",
   "execution_count": 2,
   "id": "836b1313-ef51-4269-84a3-6ed2996120f9",
   "metadata": {},
   "outputs": [
    {
     "name": "stdout",
     "output_type": "stream",
     "text": [
      "Accuracy: 0.9777777777777777\n"
     ]
    }
   ],
   "source": [
    "from sklearn.svm import SVC\n",
    "from sklearn.datasets import load_iris\n",
    "from sklearn.model_selection import train_test_split\n",
    "from sklearn.metrics import accuracy_score\n",
    "\n",
    "# Load the Iris dataset\n",
    "iris = load_iris()\n",
    "X = iris.data\n",
    "y = iris.target\n",
    "\n",
    "# Split the dataset into a training set and a testing set\n",
    "X_train, X_test, y_train, y_test = train_test_split(X, y, test_size=0.3, random_state=42)\n",
    "\n",
    "# Implement SVM with a polynomial kernel\n",
    "svm_classifier = SVC(kernel='poly', degree=3, gamma='scale', C=1.0)\n",
    "svm_classifier.fit(X_train, y_train)\n",
    "\n",
    "# Predict the labels for the testing set\n",
    "y_pred = svm_classifier.predict(X_test)\n",
    "\n",
    "# Compute the accuracy of the model on the testing set\n",
    "accuracy = accuracy_score(y_test, y_pred)\n",
    "print(\"Accuracy:\",accuracy)"
   ]
  },
  {
   "cell_type": "markdown",
   "id": "6c72c0ba-80e5-4983-bd37-356b4d4f171d",
   "metadata": {},
   "source": [
    "# ANSWER 3\n",
    "In Support Vector Regression (SVR), epsilon (ε) is a hyperparameter that controls the width of the margin around the regression line (or hyperplane). It defines a tube around the predicted values within which no penalty is incurred. Data points outside this tube contribute to the loss function.\n",
    "\n",
    "As epsilon is increased, the width of the tube also increases, allowing more data points to fall within the tube without incurring any penalty. Consequently, the number of support vectors typically increases when epsilon is increased.\n",
    "\n",
    "Support vectors are the data points that lie on or within the margin, and they play a crucial role in determining the regression line and making predictions. When epsilon is larger, more data points are considered \"close\" to the regression line, resulting in more support vectors."
   ]
  },
  {
   "cell_type": "markdown",
   "id": "69b859ae-a351-4682-a202-3f5e60d39a62",
   "metadata": {},
   "source": [
    "# ANSWER 4\n",
    "Kernel Function: The choice of kernel function determines how the data is mapped into a higher-dimensional feature space. Different kernel functions may work better for different types of data. For example, the linear kernel is suitable for linearly separable data, while the radial basis function (RBF) kernel is more flexible and can handle non-linear relationships. Experiment with different kernels to find the best one for your data.\n",
    "\n",
    "C Parameter: The C parameter is the regularization parameter in SVR. It controls the trade-off between minimizing the training error and minimizing the model complexity (the width of the margin). Smaller values of C result in a wider margin and more tolerance for errors, which can lead to better generalization on unseen data and prevent overfitting. Conversely, larger values of C create a narrower margin and may lead to overfitting on the training data.\n",
    "\n",
    "Epsilon Parameter: The epsilon parameter (ε) defines the width of the tube around the regression line in SVR. A larger epsilon allows more data points to fall within the tube without penalty, and a smaller epsilon makes the tube narrower. The choice of epsilon depends on the desired trade-off between fitting the data closely (low epsilon) and allowing more flexibility in the predictions (high epsilon).\n",
    "\n",
    "Gamma Parameter: The gamma parameter is specific to the RBF kernel. It defines the spread of the kernel and determines how far the influence of a single training example reaches. A small gamma means a wider spread, while a large gamma means a narrower spread. Large gamma values can lead to overfitting, while small gamma values can lead to underfitting. Finding the right gamma value is essential for good performance.\n",
    "\n",
    "To summarize, selecting the appropriate kernel function and tuning the C parameter, epsilon parameter, and gamma parameter in SVR is essential for achieving good model performance. Proper parameter tuning can prevent overfitting, improve generalization to unseen data, and result in a more accurate regression model for the specific problem at hand. Cross-validation and grid search techniques are commonly used to find the optimal values of these parameters for SVR models."
   ]
  },
  {
   "cell_type": "markdown",
   "id": "5805ffe3-e468-42b1-bfee-b77173c7edb5",
   "metadata": {},
   "source": [
    "# ANSWER 5"
   ]
  },
  {
   "cell_type": "markdown",
   "id": "3627c431-8a77-49c3-a421-5c6357afc7c2",
   "metadata": {},
   "source": [
    "## STEP 1 : Importing the necessary libraries and loading the dataset"
   ]
  },
  {
   "cell_type": "code",
   "execution_count": 3,
   "id": "fe9bd1fb-8c4e-4237-a8ad-b9139f7a32aa",
   "metadata": {},
   "outputs": [],
   "source": [
    "import numpy as np\n",
    "import pandas as pd\n",
    "from sklearn.datasets import load_iris\n",
    "from sklearn.model_selection import train_test_split\n",
    "from sklearn.preprocessing import StandardScaler\n",
    "from sklearn.svm import SVC\n",
    "from sklearn.metrics import accuracy_score, classification_report\n",
    "from sklearn.model_selection import GridSearchCV\n",
    "import joblib"
   ]
  },
  {
   "cell_type": "markdown",
   "id": "3f82c3f3-0ab5-4e6d-979f-84b7851e8c51",
   "metadata": {},
   "source": [
    "## STEP 2 : Spliting the dataset into training and testing set"
   ]
  },
  {
   "cell_type": "code",
   "execution_count": 4,
   "id": "3ac11097-56cb-4828-88e6-de229460db09",
   "metadata": {},
   "outputs": [],
   "source": [
    "df = load_iris()\n",
    "X = df.data\n",
    "y = df.target\n",
    "\n",
    "X_train, X_test, y_train, y_test = train_test_split(X, y, test_size=0.3, random_state=42)"
   ]
  },
  {
   "cell_type": "markdown",
   "id": "fc2edd32-1e81-4211-8913-e39584270010",
   "metadata": {},
   "source": [
    "## STEP 3 : Preprocessing the data with standard scaler"
   ]
  },
  {
   "cell_type": "code",
   "execution_count": 5,
   "id": "cf852569-89f6-4bc5-be78-3b4dd8c429b9",
   "metadata": {},
   "outputs": [],
   "source": [
    "scaler = StandardScaler()\n",
    "X_train_scaled = scaler.fit_transform(X_train)\n",
    "X_test_scaled = scaler.transform(X_test)"
   ]
  },
  {
   "cell_type": "markdown",
   "id": "c37cf7ac-a34b-412c-8c76-ac404693c5ba",
   "metadata": {},
   "source": [
    "## STEP 4 : Creating an instance of the SVC classifier and training it in the training data"
   ]
  },
  {
   "cell_type": "code",
   "execution_count": 7,
   "id": "3861b187-0a84-4c0f-9c9f-4aa97776b746",
   "metadata": {},
   "outputs": [
    {
     "data": {
      "text/html": [
       "<style>#sk-container-id-2 {color: black;background-color: white;}#sk-container-id-2 pre{padding: 0;}#sk-container-id-2 div.sk-toggleable {background-color: white;}#sk-container-id-2 label.sk-toggleable__label {cursor: pointer;display: block;width: 100%;margin-bottom: 0;padding: 0.3em;box-sizing: border-box;text-align: center;}#sk-container-id-2 label.sk-toggleable__label-arrow:before {content: \"▸\";float: left;margin-right: 0.25em;color: #696969;}#sk-container-id-2 label.sk-toggleable__label-arrow:hover:before {color: black;}#sk-container-id-2 div.sk-estimator:hover label.sk-toggleable__label-arrow:before {color: black;}#sk-container-id-2 div.sk-toggleable__content {max-height: 0;max-width: 0;overflow: hidden;text-align: left;background-color: #f0f8ff;}#sk-container-id-2 div.sk-toggleable__content pre {margin: 0.2em;color: black;border-radius: 0.25em;background-color: #f0f8ff;}#sk-container-id-2 input.sk-toggleable__control:checked~div.sk-toggleable__content {max-height: 200px;max-width: 100%;overflow: auto;}#sk-container-id-2 input.sk-toggleable__control:checked~label.sk-toggleable__label-arrow:before {content: \"▾\";}#sk-container-id-2 div.sk-estimator input.sk-toggleable__control:checked~label.sk-toggleable__label {background-color: #d4ebff;}#sk-container-id-2 div.sk-label input.sk-toggleable__control:checked~label.sk-toggleable__label {background-color: #d4ebff;}#sk-container-id-2 input.sk-hidden--visually {border: 0;clip: rect(1px 1px 1px 1px);clip: rect(1px, 1px, 1px, 1px);height: 1px;margin: -1px;overflow: hidden;padding: 0;position: absolute;width: 1px;}#sk-container-id-2 div.sk-estimator {font-family: monospace;background-color: #f0f8ff;border: 1px dotted black;border-radius: 0.25em;box-sizing: border-box;margin-bottom: 0.5em;}#sk-container-id-2 div.sk-estimator:hover {background-color: #d4ebff;}#sk-container-id-2 div.sk-parallel-item::after {content: \"\";width: 100%;border-bottom: 1px solid gray;flex-grow: 1;}#sk-container-id-2 div.sk-label:hover label.sk-toggleable__label {background-color: #d4ebff;}#sk-container-id-2 div.sk-serial::before {content: \"\";position: absolute;border-left: 1px solid gray;box-sizing: border-box;top: 0;bottom: 0;left: 50%;z-index: 0;}#sk-container-id-2 div.sk-serial {display: flex;flex-direction: column;align-items: center;background-color: white;padding-right: 0.2em;padding-left: 0.2em;position: relative;}#sk-container-id-2 div.sk-item {position: relative;z-index: 1;}#sk-container-id-2 div.sk-parallel {display: flex;align-items: stretch;justify-content: center;background-color: white;position: relative;}#sk-container-id-2 div.sk-item::before, #sk-container-id-2 div.sk-parallel-item::before {content: \"\";position: absolute;border-left: 1px solid gray;box-sizing: border-box;top: 0;bottom: 0;left: 50%;z-index: -1;}#sk-container-id-2 div.sk-parallel-item {display: flex;flex-direction: column;z-index: 1;position: relative;background-color: white;}#sk-container-id-2 div.sk-parallel-item:first-child::after {align-self: flex-end;width: 50%;}#sk-container-id-2 div.sk-parallel-item:last-child::after {align-self: flex-start;width: 50%;}#sk-container-id-2 div.sk-parallel-item:only-child::after {width: 0;}#sk-container-id-2 div.sk-dashed-wrapped {border: 1px dashed gray;margin: 0 0.4em 0.5em 0.4em;box-sizing: border-box;padding-bottom: 0.4em;background-color: white;}#sk-container-id-2 div.sk-label label {font-family: monospace;font-weight: bold;display: inline-block;line-height: 1.2em;}#sk-container-id-2 div.sk-label-container {text-align: center;}#sk-container-id-2 div.sk-container {/* jupyter's `normalize.less` sets `[hidden] { display: none; }` but bootstrap.min.css set `[hidden] { display: none !important; }` so we also need the `!important` here to be able to override the default hidden behavior on the sphinx rendered scikit-learn.org. See: https://github.com/scikit-learn/scikit-learn/issues/21755 */display: inline-block !important;position: relative;}#sk-container-id-2 div.sk-text-repr-fallback {display: none;}</style><div id=\"sk-container-id-2\" class=\"sk-top-container\"><div class=\"sk-text-repr-fallback\"><pre>SVC()</pre><b>In a Jupyter environment, please rerun this cell to show the HTML representation or trust the notebook. <br />On GitHub, the HTML representation is unable to render, please try loading this page with nbviewer.org.</b></div><div class=\"sk-container\" hidden><div class=\"sk-item\"><div class=\"sk-estimator sk-toggleable\"><input class=\"sk-toggleable__control sk-hidden--visually\" id=\"sk-estimator-id-2\" type=\"checkbox\" checked><label for=\"sk-estimator-id-2\" class=\"sk-toggleable__label sk-toggleable__label-arrow\">SVC</label><div class=\"sk-toggleable__content\"><pre>SVC()</pre></div></div></div></div></div>"
      ],
      "text/plain": [
       "SVC()"
      ]
     },
     "execution_count": 7,
     "metadata": {},
     "output_type": "execute_result"
    }
   ],
   "source": [
    "Support_Vector_classifier = SVC()\n",
    "Support_Vector_classifier.fit(X_train_scaled, y_train)"
   ]
  },
  {
   "cell_type": "markdown",
   "id": "3496ae40-e0db-4bf0-90b6-0710efab39a5",
   "metadata": {},
   "source": [
    "## STEP 5 : Using the trained classifier to predict the labels of the testing data"
   ]
  },
  {
   "cell_type": "code",
   "execution_count": 8,
   "id": "fb84780f-adb8-4945-a43b-ed64a674a2f9",
   "metadata": {},
   "outputs": [],
   "source": [
    "y_pred = Support_Vector_classifier.predict(X_test_scaled)"
   ]
  },
  {
   "cell_type": "markdown",
   "id": "591e2afc-80cc-4034-95dc-4fc8de189abe",
   "metadata": {},
   "source": [
    "## STEP 6 : Evaluating the performance of the classifier"
   ]
  },
  {
   "cell_type": "code",
   "execution_count": 9,
   "id": "c040a775-2524-4356-995f-39a1a59e24d1",
   "metadata": {},
   "outputs": [
    {
     "name": "stdout",
     "output_type": "stream",
     "text": [
      "Accuracy: 1.0\n",
      "Classification Report:\n",
      "              precision    recall  f1-score   support\n",
      "\n",
      "           0       1.00      1.00      1.00        19\n",
      "           1       1.00      1.00      1.00        13\n",
      "           2       1.00      1.00      1.00        13\n",
      "\n",
      "    accuracy                           1.00        45\n",
      "   macro avg       1.00      1.00      1.00        45\n",
      "weighted avg       1.00      1.00      1.00        45\n",
      "\n"
     ]
    }
   ],
   "source": [
    "accuracy = accuracy_score(y_test, y_pred)\n",
    "classification_rep = classification_report(y_test, y_pred)\n",
    "\n",
    "print(\"Accuracy:\", accuracy)\n",
    "print(\"Classification Report:\")\n",
    "print(classification_rep)"
   ]
  },
  {
   "cell_type": "markdown",
   "id": "7a83bbe2-4416-4829-8d9c-f30d1840b205",
   "metadata": {},
   "source": [
    "## STEP 7 : Tuning the hyperparameters of the SVC classifier by using GridSearchCV to improve its performance"
   ]
  },
  {
   "cell_type": "code",
   "execution_count": 10,
   "id": "87bf8080-29a1-43b1-8eb0-d3aa6398f553",
   "metadata": {},
   "outputs": [],
   "source": [
    "param_grid = {\n",
    "    'C': [0.1, 1, 10],\n",
    "    'kernel': ['linear', 'rbf', 'poly'],\n",
    "    'gamma': ['scale', 'auto'],\n",
    "}\n",
    "\n",
    "grid_search = GridSearchCV(SVC(), param_grid, cv=5)\n",
    "grid_search.fit(X_train_scaled, y_train)\n",
    "\n",
    "best_Support_Vector_classifier = grid_search.best_estimator_"
   ]
  },
  {
   "cell_type": "markdown",
   "id": "804a5c4e-449a-4348-be13-dccca1efe183",
   "metadata": {},
   "source": [
    "## STEP 8 : Trained the tuned classifier on the entire dataset"
   ]
  },
  {
   "cell_type": "code",
   "execution_count": 12,
   "id": "de8af738-7282-43bf-a111-cb0129f5f974",
   "metadata": {},
   "outputs": [
    {
     "data": {
      "text/html": [
       "<style>#sk-container-id-3 {color: black;background-color: white;}#sk-container-id-3 pre{padding: 0;}#sk-container-id-3 div.sk-toggleable {background-color: white;}#sk-container-id-3 label.sk-toggleable__label {cursor: pointer;display: block;width: 100%;margin-bottom: 0;padding: 0.3em;box-sizing: border-box;text-align: center;}#sk-container-id-3 label.sk-toggleable__label-arrow:before {content: \"▸\";float: left;margin-right: 0.25em;color: #696969;}#sk-container-id-3 label.sk-toggleable__label-arrow:hover:before {color: black;}#sk-container-id-3 div.sk-estimator:hover label.sk-toggleable__label-arrow:before {color: black;}#sk-container-id-3 div.sk-toggleable__content {max-height: 0;max-width: 0;overflow: hidden;text-align: left;background-color: #f0f8ff;}#sk-container-id-3 div.sk-toggleable__content pre {margin: 0.2em;color: black;border-radius: 0.25em;background-color: #f0f8ff;}#sk-container-id-3 input.sk-toggleable__control:checked~div.sk-toggleable__content {max-height: 200px;max-width: 100%;overflow: auto;}#sk-container-id-3 input.sk-toggleable__control:checked~label.sk-toggleable__label-arrow:before {content: \"▾\";}#sk-container-id-3 div.sk-estimator input.sk-toggleable__control:checked~label.sk-toggleable__label {background-color: #d4ebff;}#sk-container-id-3 div.sk-label input.sk-toggleable__control:checked~label.sk-toggleable__label {background-color: #d4ebff;}#sk-container-id-3 input.sk-hidden--visually {border: 0;clip: rect(1px 1px 1px 1px);clip: rect(1px, 1px, 1px, 1px);height: 1px;margin: -1px;overflow: hidden;padding: 0;position: absolute;width: 1px;}#sk-container-id-3 div.sk-estimator {font-family: monospace;background-color: #f0f8ff;border: 1px dotted black;border-radius: 0.25em;box-sizing: border-box;margin-bottom: 0.5em;}#sk-container-id-3 div.sk-estimator:hover {background-color: #d4ebff;}#sk-container-id-3 div.sk-parallel-item::after {content: \"\";width: 100%;border-bottom: 1px solid gray;flex-grow: 1;}#sk-container-id-3 div.sk-label:hover label.sk-toggleable__label {background-color: #d4ebff;}#sk-container-id-3 div.sk-serial::before {content: \"\";position: absolute;border-left: 1px solid gray;box-sizing: border-box;top: 0;bottom: 0;left: 50%;z-index: 0;}#sk-container-id-3 div.sk-serial {display: flex;flex-direction: column;align-items: center;background-color: white;padding-right: 0.2em;padding-left: 0.2em;position: relative;}#sk-container-id-3 div.sk-item {position: relative;z-index: 1;}#sk-container-id-3 div.sk-parallel {display: flex;align-items: stretch;justify-content: center;background-color: white;position: relative;}#sk-container-id-3 div.sk-item::before, #sk-container-id-3 div.sk-parallel-item::before {content: \"\";position: absolute;border-left: 1px solid gray;box-sizing: border-box;top: 0;bottom: 0;left: 50%;z-index: -1;}#sk-container-id-3 div.sk-parallel-item {display: flex;flex-direction: column;z-index: 1;position: relative;background-color: white;}#sk-container-id-3 div.sk-parallel-item:first-child::after {align-self: flex-end;width: 50%;}#sk-container-id-3 div.sk-parallel-item:last-child::after {align-self: flex-start;width: 50%;}#sk-container-id-3 div.sk-parallel-item:only-child::after {width: 0;}#sk-container-id-3 div.sk-dashed-wrapped {border: 1px dashed gray;margin: 0 0.4em 0.5em 0.4em;box-sizing: border-box;padding-bottom: 0.4em;background-color: white;}#sk-container-id-3 div.sk-label label {font-family: monospace;font-weight: bold;display: inline-block;line-height: 1.2em;}#sk-container-id-3 div.sk-label-container {text-align: center;}#sk-container-id-3 div.sk-container {/* jupyter's `normalize.less` sets `[hidden] { display: none; }` but bootstrap.min.css set `[hidden] { display: none !important; }` so we also need the `!important` here to be able to override the default hidden behavior on the sphinx rendered scikit-learn.org. See: https://github.com/scikit-learn/scikit-learn/issues/21755 */display: inline-block !important;position: relative;}#sk-container-id-3 div.sk-text-repr-fallback {display: none;}</style><div id=\"sk-container-id-3\" class=\"sk-top-container\"><div class=\"sk-text-repr-fallback\"><pre>SVC(C=10, kernel=&#x27;linear&#x27;)</pre><b>In a Jupyter environment, please rerun this cell to show the HTML representation or trust the notebook. <br />On GitHub, the HTML representation is unable to render, please try loading this page with nbviewer.org.</b></div><div class=\"sk-container\" hidden><div class=\"sk-item\"><div class=\"sk-estimator sk-toggleable\"><input class=\"sk-toggleable__control sk-hidden--visually\" id=\"sk-estimator-id-3\" type=\"checkbox\" checked><label for=\"sk-estimator-id-3\" class=\"sk-toggleable__label sk-toggleable__label-arrow\">SVC</label><div class=\"sk-toggleable__content\"><pre>SVC(C=10, kernel=&#x27;linear&#x27;)</pre></div></div></div></div></div>"
      ],
      "text/plain": [
       "SVC(C=10, kernel='linear')"
      ]
     },
     "execution_count": 12,
     "metadata": {},
     "output_type": "execute_result"
    }
   ],
   "source": [
    "X_scaled = scaler.fit_transform(X)\n",
    "best_Support_Vector_classifier.fit(X_scaled, y)"
   ]
  },
  {
   "cell_type": "markdown",
   "id": "2840842d-91b9-4671-867c-15c9c786ce46",
   "metadata": {},
   "source": [
    "## STEP 9 : Saving the trained classifier to a file for future use."
   ]
  },
  {
   "cell_type": "code",
   "execution_count": 20,
   "id": "13e313a5-1567-4dfc-9766-f943685674a9",
   "metadata": {},
   "outputs": [],
   "source": [
    "file_path = 'trained_svc_classifier.joblib'\n",
    "joblib.dump(best_Support_Vector_classifier, file_path)\n",
    "# Load the trained classifier from the saved file\n",
    "loaded_best_Support_Vector_classifier = joblib.load(file_path)"
   ]
  },
  {
   "cell_type": "code",
   "execution_count": null,
   "id": "5339251d-b4b6-497a-9414-060b782590ae",
   "metadata": {},
   "outputs": [],
   "source": []
  },
  {
   "cell_type": "code",
   "execution_count": null,
   "id": "c4456568-6414-43c1-b6d3-f250e3503ced",
   "metadata": {},
   "outputs": [],
   "source": []
  }
 ],
 "metadata": {
  "kernelspec": {
   "display_name": "Python 3 (ipykernel)",
   "language": "python",
   "name": "python3"
  },
  "language_info": {
   "codemirror_mode": {
    "name": "ipython",
    "version": 3
   },
   "file_extension": ".py",
   "mimetype": "text/x-python",
   "name": "python",
   "nbconvert_exporter": "python",
   "pygments_lexer": "ipython3",
   "version": "3.10.8"
  }
 },
 "nbformat": 4,
 "nbformat_minor": 5
}
